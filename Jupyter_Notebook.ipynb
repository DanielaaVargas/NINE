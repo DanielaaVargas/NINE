{
  "nbformat": 4,
  "nbformat_minor": 0,
  "metadata": {
    "colab": {
      "provenance": [],
      "authorship_tag": "ABX9TyNfDn4MjVND3xikW3xwbaak",
      "include_colab_link": true
    },
    "kernelspec": {
      "name": "python3",
      "display_name": "Python 3"
    },
    "language_info": {
      "name": "python"
    }
  },
  "cells": [
    {
      "cell_type": "markdown",
      "metadata": {
        "id": "view-in-github",
        "colab_type": "text"
      },
      "source": [
        "<a href=\"https://colab.research.google.com/github/DanielaaVargas/NINE/blob/main/Jupyter_Notebook.ipynb\" target=\"_parent\"><img src=\"https://colab.research.google.com/assets/colab-badge.svg\" alt=\"Open In Colab\"/></a>"
      ]
    },
    {
      "cell_type": "code",
      "execution_count": 7,
      "metadata": {
        "id": "ABLvydXdBtIK",
        "outputId": "add8563c-67d3-4682-958c-dcc26c368770",
        "colab": {
          "base_uri": "https://localhost:8080/"
        }
      },
      "outputs": [
        {
          "output_type": "stream",
          "name": "stdout",
          "text": [
            "Requirement already satisfied: astropy in /usr/local/lib/python3.10/dist-packages (5.3.4)\n",
            "Requirement already satisfied: numpy<2,>=1.21 in /usr/local/lib/python3.10/dist-packages (from astropy) (1.25.2)\n",
            "Requirement already satisfied: pyerfa>=2.0 in /usr/local/lib/python3.10/dist-packages (from astropy) (2.0.1.4)\n",
            "Requirement already satisfied: PyYAML>=3.13 in /usr/local/lib/python3.10/dist-packages (from astropy) (6.0.1)\n",
            "Requirement already satisfied: packaging>=19.0 in /usr/local/lib/python3.10/dist-packages (from astropy) (24.1)\n"
          ]
        }
      ],
      "source": [
        "!pip install astropy"
      ]
    },
    {
      "cell_type": "code",
      "source": [
        "!pip install aplpy"
      ],
      "metadata": {
        "id": "X20K38knMSll",
        "outputId": "9c8ffd4e-fd9f-4f80-c81a-b274aae80d39",
        "colab": {
          "base_uri": "https://localhost:8080/"
        }
      },
      "execution_count": 8,
      "outputs": [
        {
          "output_type": "stream",
          "name": "stdout",
          "text": [
            "Requirement already satisfied: aplpy in /usr/local/lib/python3.10/dist-packages (2.1.0)\n",
            "Requirement already satisfied: numpy in /usr/local/lib/python3.10/dist-packages (from aplpy) (1.25.2)\n",
            "Requirement already satisfied: astropy>=3.1 in /usr/local/lib/python3.10/dist-packages (from aplpy) (5.3.4)\n",
            "Requirement already satisfied: matplotlib>=2.0 in /usr/local/lib/python3.10/dist-packages (from aplpy) (3.7.1)\n",
            "Requirement already satisfied: reproject>=0.4 in /usr/local/lib/python3.10/dist-packages (from aplpy) (0.13.1)\n",
            "Requirement already satisfied: pyregion>=2.0 in /usr/local/lib/python3.10/dist-packages (from aplpy) (2.2.0)\n",
            "Requirement already satisfied: pillow>=4.3 in /usr/local/lib/python3.10/dist-packages (from aplpy) (9.4.0)\n",
            "Requirement already satisfied: pyavm>=0.9.4 in /usr/local/lib/python3.10/dist-packages (from aplpy) (0.9.6)\n",
            "Requirement already satisfied: scikit-image>=0.14 in /usr/local/lib/python3.10/dist-packages (from aplpy) (0.19.3)\n",
            "Requirement already satisfied: shapely>=1.7 in /usr/local/lib/python3.10/dist-packages (from aplpy) (2.0.4)\n",
            "Requirement already satisfied: pyerfa>=2.0 in /usr/local/lib/python3.10/dist-packages (from astropy>=3.1->aplpy) (2.0.1.4)\n",
            "Requirement already satisfied: PyYAML>=3.13 in /usr/local/lib/python3.10/dist-packages (from astropy>=3.1->aplpy) (6.0.1)\n",
            "Requirement already satisfied: packaging>=19.0 in /usr/local/lib/python3.10/dist-packages (from astropy>=3.1->aplpy) (24.1)\n",
            "Requirement already satisfied: contourpy>=1.0.1 in /usr/local/lib/python3.10/dist-packages (from matplotlib>=2.0->aplpy) (1.2.1)\n",
            "Requirement already satisfied: cycler>=0.10 in /usr/local/lib/python3.10/dist-packages (from matplotlib>=2.0->aplpy) (0.12.1)\n",
            "Requirement already satisfied: fonttools>=4.22.0 in /usr/local/lib/python3.10/dist-packages (from matplotlib>=2.0->aplpy) (4.53.0)\n",
            "Requirement already satisfied: kiwisolver>=1.0.1 in /usr/local/lib/python3.10/dist-packages (from matplotlib>=2.0->aplpy) (1.4.5)\n",
            "Requirement already satisfied: pyparsing>=2.3.1 in /usr/local/lib/python3.10/dist-packages (from matplotlib>=2.0->aplpy) (3.1.2)\n",
            "Requirement already satisfied: python-dateutil>=2.7 in /usr/local/lib/python3.10/dist-packages (from matplotlib>=2.0->aplpy) (2.8.2)\n",
            "Requirement already satisfied: astropy-healpix>=0.6 in /usr/local/lib/python3.10/dist-packages (from reproject>=0.4->aplpy) (1.0.3)\n",
            "Requirement already satisfied: scipy>=1.9 in /usr/local/lib/python3.10/dist-packages (from reproject>=0.4->aplpy) (1.11.4)\n",
            "Requirement already satisfied: dask[array]>=2021.8 in /usr/local/lib/python3.10/dist-packages (from reproject>=0.4->aplpy) (2023.8.1)\n",
            "Requirement already satisfied: cloudpickle in /usr/local/lib/python3.10/dist-packages (from reproject>=0.4->aplpy) (2.2.1)\n",
            "Requirement already satisfied: zarr in /usr/local/lib/python3.10/dist-packages (from reproject>=0.4->aplpy) (2.18.2)\n",
            "Requirement already satisfied: fsspec in /usr/local/lib/python3.10/dist-packages (from reproject>=0.4->aplpy) (2023.6.0)\n",
            "Requirement already satisfied: networkx>=2.2 in /usr/local/lib/python3.10/dist-packages (from scikit-image>=0.14->aplpy) (3.3)\n",
            "Requirement already satisfied: imageio>=2.4.1 in /usr/local/lib/python3.10/dist-packages (from scikit-image>=0.14->aplpy) (2.31.6)\n",
            "Requirement already satisfied: tifffile>=2019.7.26 in /usr/local/lib/python3.10/dist-packages (from scikit-image>=0.14->aplpy) (2024.5.22)\n",
            "Requirement already satisfied: PyWavelets>=1.1.1 in /usr/local/lib/python3.10/dist-packages (from scikit-image>=0.14->aplpy) (1.6.0)\n",
            "Requirement already satisfied: click>=8.0 in /usr/local/lib/python3.10/dist-packages (from dask[array]>=2021.8->reproject>=0.4->aplpy) (8.1.7)\n",
            "Requirement already satisfied: partd>=1.2.0 in /usr/local/lib/python3.10/dist-packages (from dask[array]>=2021.8->reproject>=0.4->aplpy) (1.4.2)\n",
            "Requirement already satisfied: toolz>=0.10.0 in /usr/local/lib/python3.10/dist-packages (from dask[array]>=2021.8->reproject>=0.4->aplpy) (0.12.1)\n",
            "Requirement already satisfied: importlib-metadata>=4.13.0 in /usr/local/lib/python3.10/dist-packages (from dask[array]>=2021.8->reproject>=0.4->aplpy) (7.1.0)\n",
            "Requirement already satisfied: six>=1.5 in /usr/local/lib/python3.10/dist-packages (from python-dateutil>=2.7->matplotlib>=2.0->aplpy) (1.16.0)\n",
            "Requirement already satisfied: asciitree in /usr/local/lib/python3.10/dist-packages (from zarr->reproject>=0.4->aplpy) (0.3.3)\n",
            "Requirement already satisfied: numcodecs>=0.10.0 in /usr/local/lib/python3.10/dist-packages (from zarr->reproject>=0.4->aplpy) (0.12.1)\n",
            "Requirement already satisfied: fasteners in /usr/local/lib/python3.10/dist-packages (from zarr->reproject>=0.4->aplpy) (0.19)\n",
            "Requirement already satisfied: zipp>=0.5 in /usr/local/lib/python3.10/dist-packages (from importlib-metadata>=4.13.0->dask[array]>=2021.8->reproject>=0.4->aplpy) (3.19.2)\n",
            "Requirement already satisfied: locket in /usr/local/lib/python3.10/dist-packages (from partd>=1.2.0->dask[array]>=2021.8->reproject>=0.4->aplpy) (1.0.0)\n"
          ]
        }
      ]
    }
  ]
}